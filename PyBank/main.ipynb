{
 "cells": [
  {
   "cell_type": "code",
   "execution_count": 17,
   "metadata": {},
   "outputs": [],
   "source": [
    "# import budget data\n",
    "\n",
    "import csv\n",
    "from pathlib import Path"
   ]
  },
  {
   "cell_type": "code",
   "execution_count": 18,
   "metadata": {},
   "outputs": [],
   "source": [
    "csv_path = Path(Resources/)"
   ]
  },
  {
   "cell_type": "code",
   "execution_count": 130,
   "metadata": {},
   "outputs": [],
   "source": [
    "# declare variables\n",
    "\n",
    "total_months = 0\n",
    "total_profit_loss = 0\n",
    "average_change = []\n",
    "greatest_increase_profits = 0\n",
    "greatest_decrease_profits = 0\n",
    "\n",
    "# open csv file \n",
    "\n",
    "with open(csv_path, 'r')as csvfile:\n",
    "    budget_data = csv.reader(csvfile, delimiter=',')\n",
    "    \n",
    "    header = next(budget_data)\n",
    "    \n",
    "# add # of months and total profit or loss\n",
    "\n",
    "    for row in budget_data:\n",
    "        \n",
    "        total_months += 1\n",
    "        total_profit_loss += int(row[1])\n",
    "        \n",
    "    \n",
    "        \n",
    "       "
   ]
  },
  {
   "cell_type": "code",
   "execution_count": null,
   "metadata": {},
   "outputs": [],
   "source": []
  },
  {
   "cell_type": "code",
   "execution_count": null,
   "metadata": {},
   "outputs": [],
   "source": []
  }
 ],
 "metadata": {
  "kernelspec": {
   "display_name": "Python 3",
   "language": "python",
   "name": "python3"
  },
  "language_info": {
   "codemirror_mode": {
    "name": "ipython",
    "version": 3
   },
   "file_extension": ".py",
   "mimetype": "text/x-python",
   "name": "python",
   "nbconvert_exporter": "python",
   "pygments_lexer": "ipython3",
   "version": "3.7.9"
  }
 },
 "nbformat": 4,
 "nbformat_minor": 4
}
